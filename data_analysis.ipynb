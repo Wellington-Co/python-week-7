{ 
 "cells": [
  {
   "cell_type": "markdown",
   "metadata": {}, 
   "source": ["# Data Analysis of the Iris Dataset\n",
              "This notebook contains data loading, exploration, basic analysis, and visualization of the Iris dataset."]
  },
  {
   "cell_type": "code",
   "execution_count": null,
   "metadata": {}, 
   "outputs": [], 
   "source": ["import pandas as pd\n",
              "import matplotlib.pyplot as plt\n",
              "import seaborn as sns\n",
              "from sklearn.datasets import load_iris\n",
              "\n",
              "# Load the dataset\n",
              "iris = load_iris()\n",
              "df = pd.DataFrame(data=iris.data, columns=iris.feature_names)\n",
              "df['species'] = iris.target\n",
              "df['species'] = df['species'].map({0: 'setosa', 1: 'versicolor', 2: 'virginica'})\n",
              "\n",
              "# Display first few rows\n",
              "df.head()"]
  },
  {
   "cell_type": "code",
   "execution_count": null,
   "metadata": {}, 
   "outputs": [], 
   "source": ["# Check dataset information\n",
              "df.info()"]
  },
  {
   "cell_type": "code",
   "execution_count": null,
   "metadata": {}, 
   "outputs": [], 
   "source": ["# Check for missing values\n",
              "df.isnull().sum()"]
  },
  {
   "cell_type": "code",
   "execution_count": null,
   "metadata": {}, 
   "outputs": [], 
   "source": ["# Basic statistics\n",
              "df.describe()"]
  },
  {
   "cell_type": "code",
   "execution_count": null,
   "metadata": {}, 
   "outputs": [], 
   "source": ["# Grouping by species and computing mean\n",
              "df.groupby('species').mean()"]
  },
  {
   "cell_type": "markdown",
   "metadata": {}, 
   "source": ["## Data Visualization"]
  },
  {
   "cell_type": "code",
   "execution_count": null,
   "metadata": {}, 
   "outputs": [], 
   "source": ["sns.set_style('whitegrid')\n",
              "\n",
              "# Line Chart (Example: Trend over Index)\n",
              "plt.figure(figsize=(8,5))\n",
              "plt.plot(df.index, df['sepal length (cm)'], label='Sepal Length')\n",
              "plt.xlabel('Index')\n",
              "plt.ylabel('Sepal Length (cm)')\n",
              "plt.title('Trend of Sepal Length over Index')\n",
              "plt.legend()\n",
              "plt.show()"]
  },
  {
   "cell_type": "code",
   "execution_count": null,
   "metadata": {}, 
   "outputs": [], 
   "source": ["# Bar Chart (Mean petal length per species)\n",
              "plt.figure(figsize=(8,5))\n",
              "sns.barplot(x='species', y='petal length (cm)', data=df, estimator=sum, palette='viridis')\n",
              "plt.title('Total Petal Length per Species')\n",
              "plt.xlabel('Species')\n",
              "plt.ylabel('Petal Length (cm)')\n",
              "plt.show()"]
  },
  {
   "cell_type": "code",
   "execution_count": null,
   "metadata": {}, 
   "outputs": [], 
   "source": ["# Histogram (Distribution of Sepal Width)\n",
              "plt.figure(figsize=(8,5))\n",
              "sns.histplot(df['sepal width (cm)'], bins=20, kde=True, color='blue')\n",
              "plt.title('Distribution of Sepal Width')\n",
              "plt.xlabel('Sepal Width (cm)')\n",
              "plt.show()"]
  },
  {
   "cell_type": "code",
   "execution_count": null,
   "metadata": {}, 
   "outputs": [], 
   "source": ["# Scatter Plot (Sepal Length vs Petal Length)\n",
              "plt.figure(figsize=(8,5))\n",
              "sns.scatterplot(x='sepal length (cm)', y='petal length (cm)', hue='species', data=df, palette='deep')\n",
              "plt.title('Sepal Length vs Petal Length')\n",
              "plt.xlabel('Sepal Length (cm)')\n",
              "plt.ylabel('Petal Length (cm)')\n",
              "plt.legend(title='Species')\n",
              "plt.show()"]
  }
 ], 
 "metadata": {
  "kernelspec": {
   "display_name": "Python 3",
   "language": "python",
   "name": "python3"
  },
  "language_info": {
   "codemirror_mode": {
    "name": "ipython",
    "version": 3
   },
   "file_extension": ".py",
   "mimetype": "text/x-python",
   "name": "python",
   "nbconvert_exporter": "python",
   "pygments_lexer": "ipython3",
   "version": "3.8.5"
  }
 },
 "nbformat": 4,
 "nbformat_minor": 4
}